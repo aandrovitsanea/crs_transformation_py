{
 "cells": [
  {
   "cell_type": "markdown",
   "metadata": {},
   "source": [
    "# CRS transformation\n",
    "## This notebook provides a tool of transformation of X,Y coordinates between different CRS.\n",
    "### Basic input is the epsg code, as well as below included libraries.\n",
    "#### Compiled by A.Androvitsanea (androvitsanea@archaeoengineering.org)"
   ]
  },
  {
   "cell_type": "markdown",
   "metadata": {},
   "source": [
    "[You need to install package pyproj](https://pypi.org/project/pyproj/)"
   ]
  },
  {
   "cell_type": "code",
   "execution_count": 1,
   "metadata": {},
   "outputs": [],
   "source": [
    "# Import basic libraries\n",
    "from pyproj import Transformer\n",
    "import pandas as pd"
   ]
  },
  {
   "cell_type": "code",
   "execution_count": 2,
   "metadata": {},
   "outputs": [],
   "source": [
    "# Define the tranformation setting\n",
    "# In this example we transform a set of X, Y from EPSG:2100 to EPSG:4326 creating a tuple dataset.\n",
    "# Adjust these with the values of your projects' crs.\n",
    "transformer = Transformer.from_crs(\"epsg:2100\", \"epsg:4326\")"
   ]
  },
  {
   "cell_type": "code",
   "execution_count": 3,
   "metadata": {},
   "outputs": [
    {
     "data": {
      "text/plain": [
       "(37.671850193564225, 26.885477086486144)"
      ]
     },
     "execution_count": 3,
     "metadata": {},
     "output_type": "execute_result"
    }
   ],
   "source": [
    "# Write the X and Y coordinates to be transformed\n",
    "x = 754341\n",
    "y = 4173037\n",
    "\n",
    "# Here you perform the transformation.\n",
    "transformer.transform(x, y)"
   ]
  },
  {
   "cell_type": "markdown",
   "metadata": {},
   "source": [
    "# In case you have a set of points with given X, Y coordinates in a csv, you can work as following :\n",
    "[Check here on how to insert tables in with pandas](https://pandas.pydata.org/pandas-docs/stable/generated/pandas.read_csv.html) "
   ]
  },
  {
   "cell_type": "code",
   "execution_count": 4,
   "metadata": {},
   "outputs": [],
   "source": [
    "# Import your data which include X und Y columns\n",
    "df = pd.read_csv(\"sample_coordinates.csv\", sep = \";\",header = 0, decimal = \".\")"
   ]
  },
  {
   "cell_type": "code",
   "execution_count": 5,
   "metadata": {},
   "outputs": [],
   "source": [
    "# Define the function that will work row-wise performing the transformation for each set of X,Y\n",
    "def tranformation(row):\n",
    "    return transformer.transform(row[\"X\"],row[\"Y\"])"
   ]
  },
  {
   "cell_type": "code",
   "execution_count": 6,
   "metadata": {},
   "outputs": [],
   "source": [
    "# Use the apply function of pandas to implement the above defined function to a dataset\n",
    "tranformed_dataset = df.apply(tranformation, axis=1)"
   ]
  },
  {
   "cell_type": "code",
   "execution_count": 7,
   "metadata": {},
   "outputs": [],
   "source": [
    "# Store tranformed coordinates in a csv file\n",
    "tranformed_dataset.to_csv('tranformed_dataset.csv')"
   ]
  }
 ],
 "metadata": {
  "kernelspec": {
   "display_name": "Python 3",
   "language": "python",
   "name": "python3"
  },
  "language_info": {
   "codemirror_mode": {
    "name": "ipython",
    "version": 3
   },
   "file_extension": ".py",
   "mimetype": "text/x-python",
   "name": "python",
   "nbconvert_exporter": "python",
   "pygments_lexer": "ipython3",
   "version": "3.8.3"
  }
 },
 "nbformat": 4,
 "nbformat_minor": 2
}
