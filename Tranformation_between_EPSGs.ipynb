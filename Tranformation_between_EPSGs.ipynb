{
 "cells": [
  {
   "cell_type": "markdown",
   "metadata": {},
   "source": [
    "# CRS transformation\n",
    "## This notebook provides a tool of transformation of X,Y coordinates between different CRS.\n",
    "### Basic input is the epsg code, as well as below included libraries.\n",
    "#### Compiled by A.Androvitsanea (androvitsanea@archaeoengineering.org)"
   ]
  },
  {
   "cell_type": "markdown",
   "metadata": {},
   "source": [
    "[You need to install package pyproj](https://pypi.org/project/pyproj/)"
   ]
  },
  {
   "cell_type": "code",
   "execution_count": 4,
   "metadata": {},
   "outputs": [],
   "source": [
    "# Here we import basic libraries needed\n",
    "from pyproj import Proj, transform\n",
    "import pandas as pd\n",
    "from scipy.interpolate import interp1d\n",
    "import matplotlib.pyplot as plt\n",
    "import numpy as np\n",
    "import datetime\n",
    "%matplotlib inline\n"
   ]
  },
  {
   "cell_type": "code",
   "execution_count": 5,
   "metadata": {},
   "outputs": [
    {
     "name": "stdout",
     "output_type": "stream",
     "text": [
      "(26.885477086487736, 37.671850193529124)\n"
     ]
    }
   ],
   "source": [
    "# Here we transform a set of X, Y from EPSG:2100 to EPSG:4326 creating a tuple dataset.\n",
    "# Inset here the EPSG code of your current projection\n",
    "inProj = Proj(init='epsg:2100')\n",
    "\n",
    "# Insert here the EPSG you wish to transform your data to\n",
    "outProj = Proj(init='epsg:4326')\n",
    "\n",
    "# Write the X and Y coordinates to be transformed\n",
    "x1 = 754341\n",
    "y1 = 4173037\n",
    "\n",
    "# This function performs the transformation\n",
    "xy2 = transform(inProj,outProj,x1,y1)\n",
    "\n",
    "# Here you can print your result\n",
    "print(xy2)"
   ]
  },
  {
   "cell_type": "code",
   "execution_count": 6,
   "metadata": {},
   "outputs": [
    {
     "name": "stdout",
     "output_type": "stream",
     "text": [
      "(754340.9991586995, 4173036.9983472223)\n"
     ]
    }
   ],
   "source": [
    "# Here we transform a set of X, Y from EPSG:4326 to EPSG:2100 creating a tuple dataset.\n",
    "inProj = Proj(init='epsg:4326')\n",
    "outProj = Proj(init='epsg:2100')\n",
    "x1 = 26.885477086487736\n",
    "y1 = 37.671850193529124\n",
    "xy2 = transform(inProj,outProj,x1, y1)\n",
    "print(xy2)"
   ]
  },
  {
   "cell_type": "markdown",
   "metadata": {},
   "source": [
    "# In case you have a set of points with given X, Y coordinates in a csv, you can work as following :\n",
    "[Check here on how to insert tables in with pandas](https://pandas.pydata.org/pandas-docs/stable/generated/pandas.read_csv.html) "
   ]
  },
  {
   "cell_type": "code",
   "execution_count": 124,
   "metadata": {},
   "outputs": [
    {
     "data": {
      "text/html": [
       "<div>\n",
       "<table border=\"1\" class=\"dataframe\">\n",
       "  <thead>\n",
       "    <tr style=\"text-align: right;\">\n",
       "      <th></th>\n",
       "      <th>X</th>\n",
       "      <th>Y</th>\n",
       "    </tr>\n",
       "    <tr>\n",
       "      <th>po</th>\n",
       "      <th></th>\n",
       "      <th></th>\n",
       "    </tr>\n",
       "  </thead>\n",
       "  <tbody>\n",
       "    <tr>\n",
       "      <th>1</th>\n",
       "      <td>754340.999159</td>\n",
       "      <td>4.173037e+06</td>\n",
       "    </tr>\n",
       "    <tr>\n",
       "      <th>2</th>\n",
       "      <td>754341.999159</td>\n",
       "      <td>4.173038e+06</td>\n",
       "    </tr>\n",
       "    <tr>\n",
       "      <th>3</th>\n",
       "      <td>754342.999159</td>\n",
       "      <td>4.173039e+06</td>\n",
       "    </tr>\n",
       "    <tr>\n",
       "      <th>4</th>\n",
       "      <td>754343.999159</td>\n",
       "      <td>4.173040e+06</td>\n",
       "    </tr>\n",
       "  </tbody>\n",
       "</table>\n",
       "</div>"
      ],
      "text/plain": [
       "                X             Y\n",
       "po                             \n",
       "1   754340.999159  4.173037e+06\n",
       "2   754341.999159  4.173038e+06\n",
       "3   754342.999159  4.173039e+06\n",
       "4   754343.999159  4.173040e+06"
      ]
     },
     "execution_count": 124,
     "metadata": {},
     "output_type": "execute_result"
    }
   ],
   "source": [
    "# Insert your data which include X und Y columns\n",
    "df = pd.read_csv(\"sample_coordinates.csv\", sep = \";\",header = 0, index_col = \"po\", decimal = \".\")\n",
    "df"
   ]
  },
  {
   "cell_type": "code",
   "execution_count": 125,
   "metadata": {},
   "outputs": [
    {
     "data": {
      "text/plain": [
       "(po\n",
       " 1    754340.999159\n",
       " 2    754341.999159\n",
       " 3    754342.999159\n",
       " 4    754343.999159\n",
       " Name: X, dtype: float64, po\n",
       " 1    4.173037e+06\n",
       " 2    4.173038e+06\n",
       " 3    4.173039e+06\n",
       " 4    4.173040e+06\n",
       " Name: Y, dtype: float64)"
      ]
     },
     "execution_count": 125,
     "metadata": {},
     "output_type": "execute_result"
    }
   ],
   "source": [
    "df[\"X\"],df[\"Y\"]"
   ]
  },
  {
   "cell_type": "code",
   "execution_count": 126,
   "metadata": {},
   "outputs": [],
   "source": [
    "def tranformation(row):\n",
    "    inProj = Proj(init='epsg:4326')\n",
    "    outProj = Proj(init='epsg:2100')\n",
    "    return transform(inProj,outProj,row[\"X\"],row[\"Y\"])"
   ]
  },
  {
   "cell_type": "code",
   "execution_count": 127,
   "metadata": {},
   "outputs": [
    {
     "data": {
      "text/plain": [
       "pandas.core.frame.DataFrame"
      ]
     },
     "execution_count": 127,
     "metadata": {},
     "output_type": "execute_result"
    }
   ],
   "source": [
    "type(df)"
   ]
  },
  {
   "cell_type": "code",
   "execution_count": 128,
   "metadata": {},
   "outputs": [
    {
     "data": {
      "text/plain": [
       "po\n",
       "1    (inf, inf)\n",
       "2    (inf, inf)\n",
       "3    (inf, inf)\n",
       "4    (inf, inf)\n",
       "dtype: object"
      ]
     },
     "execution_count": 128,
     "metadata": {},
     "output_type": "execute_result"
    }
   ],
   "source": [
    "df.apply(tranformation, axis=1)"
   ]
  },
  {
   "cell_type": "code",
   "execution_count": 129,
   "metadata": {},
   "outputs": [],
   "source": [
    "def multi(row):\n",
    "    return row['X']*row['Y']"
   ]
  },
  {
   "cell_type": "code",
   "execution_count": 130,
   "metadata": {},
   "outputs": [
    {
     "data": {
      "text/plain": [
       "po\n",
       "1    (inf, inf)\n",
       "2    (inf, inf)\n",
       "3    (inf, inf)\n",
       "4    (inf, inf)\n",
       "dtype: object"
      ]
     },
     "execution_count": 130,
     "metadata": {},
     "output_type": "execute_result"
    }
   ],
   "source": [
    "df.apply(tranformation, axis=1)"
   ]
  },
  {
   "cell_type": "code",
   "execution_count": null,
   "metadata": {},
   "outputs": [],
   "source": []
  }
 ],
 "metadata": {
  "kernelspec": {
   "display_name": "Python 3",
   "language": "python",
   "name": "python3"
  },
  "language_info": {
   "codemirror_mode": {
    "name": "ipython",
    "version": 3
   },
   "file_extension": ".py",
   "mimetype": "text/x-python",
   "name": "python",
   "nbconvert_exporter": "python",
   "pygments_lexer": "ipython3",
   "version": "3.6.5"
  }
 },
 "nbformat": 4,
 "nbformat_minor": 2
}
