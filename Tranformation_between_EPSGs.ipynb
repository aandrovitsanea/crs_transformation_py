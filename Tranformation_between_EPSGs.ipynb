{
 "cells": [
  {
   "cell_type": "markdown",
   "metadata": {},
   "source": [
    "# CRS transformation\n",
    "## This notebook provides a tool of transformation of X,Y coordinates between different CRS.\n",
    "### Basic input is the epsg code, as well as below included libraries.\n",
    "#### Compiled by A.Androvitsanea (androvitsanea@archaeoengineering.org)"
   ]
  },
  {
   "cell_type": "markdown",
   "metadata": {},
   "source": [
    "[You need to install package pyproj](https://pypi.org/project/pyproj/)"
   ]
  },
  {
   "cell_type": "code",
   "execution_count": 54,
   "metadata": {},
   "outputs": [],
   "source": [
    "# Here we import basic libraries needed\n",
    "from pyproj import Proj, transform\n",
    "import pandas as pd\n",
    "from scipy.interpolate import interp1d\n",
    "import matplotlib.pyplot as plt\n",
    "import numpy as np\n",
    "import datetime\n",
    "%matplotlib inline"
   ]
  },
  {
   "cell_type": "code",
   "execution_count": 87,
   "metadata": {},
   "outputs": [
    {
     "name": "stdout",
     "output_type": "stream",
     "text": [
      "(26.885477086487736, 37.671850193529124)\n"
     ]
    }
   ],
   "source": [
    "# Here we transform a set of X, Y from EPSG:2100 to EPSG:4326 creating a tuple dataset.\n",
    "# Inset here the EPSG code of your current projection\n",
    "inProj = Proj(init='epsg:2100')\n",
    "\n",
    "# Insert here the EPSG you wish to transform your data to\n",
    "outProj = Proj(init='epsg:4326')\n",
    "\n",
    "# Write the X and Y coordinates to be transformed\n",
    "x1 = 754341\n",
    "y1 = 4173037\n",
    "\n",
    "# This function performs the transformation\n",
    "yx2 = transform(inProj,outProj,x1,y1)\n",
    "\n",
    "# Here you can print your result\n",
    "print(yx2)"
   ]
  },
  {
   "cell_type": "code",
   "execution_count": 88,
   "metadata": {},
   "outputs": [
    {
     "name": "stdout",
     "output_type": "stream",
     "text": [
      "(754340.9991586995, 4173036.9983472223)\n"
     ]
    }
   ],
   "source": [
    "# Here we transform a set of X, Y from EPSG:4326 to EPSG:2100 creating a tuple dataset.\n",
    "inProj = Proj(init='epsg:4326')\n",
    "outProj = Proj(init='epsg:2100')\n",
    "x1 = 37.671850193529124\n",
    "y1 = 26.885477086487736\n",
    "xy2 = transform(inProj,outProj,y1,x1)\n",
    "print(xy2)"
   ]
  },
  {
   "cell_type": "markdown",
   "metadata": {},
   "source": [
    "# In case you have a set of points with given X, Y coordinates in a csv, you can work as following :\n",
    "[Check here on how to insert tables in with pandas](https://pandas.pydata.org/pandas-docs/stable/generated/pandas.read_csv.html) "
   ]
  },
  {
   "cell_type": "code",
   "execution_count": 90,
   "metadata": {},
   "outputs": [
    {
     "data": {
      "text/html": [
       "<div>\n",
       "<table border=\"1\" class=\"dataframe\">\n",
       "  <thead>\n",
       "    <tr style=\"text-align: right;\">\n",
       "      <th></th>\n",
       "      <th>X</th>\n",
       "      <th>Y</th>\n",
       "    </tr>\n",
       "    <tr>\n",
       "      <th>po</th>\n",
       "      <th></th>\n",
       "      <th></th>\n",
       "    </tr>\n",
       "  </thead>\n",
       "  <tbody>\n",
       "    <tr>\n",
       "      <th>1</th>\n",
       "      <td>754340</td>\n",
       "      <td>4173036</td>\n",
       "    </tr>\n",
       "    <tr>\n",
       "      <th>2</th>\n",
       "      <td>754341</td>\n",
       "      <td>4173037</td>\n",
       "    </tr>\n",
       "    <tr>\n",
       "      <th>3</th>\n",
       "      <td>754342</td>\n",
       "      <td>4173038</td>\n",
       "    </tr>\n",
       "    <tr>\n",
       "      <th>4</th>\n",
       "      <td>754343</td>\n",
       "      <td>4173039</td>\n",
       "    </tr>\n",
       "  </tbody>\n",
       "</table>\n",
       "</div>"
      ],
      "text/plain": [
       "         X        Y\n",
       "po                 \n",
       "1   754340  4173036\n",
       "2   754341  4173037\n",
       "3   754342  4173038\n",
       "4   754343  4173039"
      ]
     },
     "execution_count": 90,
     "metadata": {},
     "output_type": "execute_result"
    }
   ],
   "source": [
    "# Insert your data which include X und Y columns\n",
    "df = pd.read_csv(\"sample_coordinates.csv\", sep = \";\",header = 0, index_col = \"po\", decimal = \".\")\n",
    "df"
   ]
  },
  {
   "cell_type": "code",
   "execution_count": 95,
   "metadata": {},
   "outputs": [],
   "source": [
    "# Define the function that will work row-wise performing the transformation for each set of X,Y from EPSG 2100 TO 4326\n",
    "\n",
    "def tranformation_EPSG_2100_4326(row):\n",
    "    inProj = Proj(init='epsg:2100')\n",
    "    outProj = Proj(init='epsg:4326')\n",
    "    return transform(inProj,outProj,row[\"X\"],row[\"Y\"])"
   ]
  },
  {
   "cell_type": "code",
   "execution_count": 94,
   "metadata": {},
   "outputs": [
    {
     "data": {
      "text/plain": [
       "po\n",
       "1      (26.885465412596457, 37.6718414689022)\n",
       "2    (26.885477086487736, 37.671850193529124)\n",
       "3    (26.885488760381755, 37.671858918154776)\n",
       "4     (26.885500434278487, 37.67186764277914)\n",
       "dtype: object"
      ]
     },
     "execution_count": 94,
     "metadata": {},
     "output_type": "execute_result"
    }
   ],
   "source": [
    "# Use the apply functino of pandas to implement the above defined function to a dataset\n",
    "\n",
    "df.apply(tranformation_EPSG_2100_4326, axis=1)"
   ]
  }
 ],
 "metadata": {
  "kernelspec": {
   "display_name": "Python 3",
   "language": "python",
   "name": "python3"
  },
  "language_info": {
   "codemirror_mode": {
    "name": "ipython",
    "version": 3
   },
   "file_extension": ".py",
   "mimetype": "text/x-python",
   "name": "python",
   "nbconvert_exporter": "python",
   "pygments_lexer": "ipython3",
   "version": "3.6.5"
  }
 },
 "nbformat": 4,
 "nbformat_minor": 2
}
